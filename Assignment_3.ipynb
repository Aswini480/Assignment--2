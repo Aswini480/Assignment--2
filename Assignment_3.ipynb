{
  "nbformat": 4,
  "nbformat_minor": 0,
  "metadata": {
    "colab": {
      "name": "Assignment 3",
      "provenance": [],
      "authorship_tag": "ABX9TyNwlKPVDSm0kqfz0uPsRasA",
      "include_colab_link": true
    },
    "kernelspec": {
      "name": "python3",
      "display_name": "Python 3"
    }
  },
  "cells": [
    {
      "cell_type": "markdown",
      "metadata": {
        "id": "view-in-github",
        "colab_type": "text"
      },
      "source": [
        "<a href=\"https://colab.research.google.com/github/Aswini480/Assignment--2/blob/master/Assignment_3.ipynb\" target=\"_parent\"><img src=\"https://colab.research.google.com/assets/colab-badge.svg\" alt=\"Open In Colab\"/></a>"
      ]
    },
    {
      "cell_type": "code",
      "metadata": {
        "id": "Tv3zrjz2mv1e",
        "colab_type": "code",
        "colab": {
          "base_uri": "https://localhost:8080/",
          "height": 68
        },
        "outputId": "ca3e84a3-a8f4-43f4-e50d-1db6e16fdb8f"
      },
      "source": [
        " #equal or not\n",
        "a = input(\"Enter the first number: \")\n",
        "b = input(\"Enter the second number: \")\n",
        "# if a is b: - Compares id's, and can cause inconsistencies. Use == instead.\n",
        "if a == b:\n",
        "  print (\"Both inputs are equal\") \n",
        "else:\n",
        "  print (\"Your input is not equal.\")"
      ],
      "execution_count": null,
      "outputs": [
        {
          "output_type": "stream",
          "text": [
            "Enter the first number: 6\n",
            "Enter the second number: 8\n",
            "Your input is not equal.\n"
          ],
          "name": "stdout"
        }
      ]
    },
    {
      "cell_type": "code",
      "metadata": {
        "id": "B1WdnQDPniXE",
        "colab_type": "code",
        "colab": {
          "base_uri": "https://localhost:8080/",
          "height": 71
        },
        "outputId": "4ea321f3-b8f0-45d0-8e62-6c763a080931"
      },
      "source": [
        " # Python Program to find Square root of a Number\n",
        " \n",
        "import math\n",
        " \n",
        "number = float(input(\" Please Enter any numeric Value : \"))\n",
        " \n",
        "squareRoot = math.sqrt(number)\n",
        " \n",
        "print(\"The Square Root of a Given Number {0}  = {1}\".format(number, squareRoot))"
      ],
      "execution_count": 8,
      "outputs": [
        {
          "output_type": "stream",
          "text": [
            " Please Enter any numeric Value : 5\n",
            "The Square Root of a Given Number 5.0  = 2.23606797749979\n"
          ],
          "name": "stdout"
        }
      ]
    },
    {
      "cell_type": "code",
      "metadata": {
        "id": "anL6HIICv0LG",
        "colab_type": "code",
        "colab": {
          "base_uri": "https://localhost:8080/",
          "height": 68
        },
        "outputId": "122edbd3-c445-40bd-cf53-45a0edd2254e"
      },
      "source": [
        " #add of numbers\n",
        "num1 = input('Enter first number: ')\n",
        "num2 = input('Enter second number: ')\n",
        " \n",
        "# Add two numbers\n",
        "sum = float(num1) + float(num2)\n",
        " \n",
        "# Display the sum\n",
        "print('The sum of {0} and {1} is {2}'.format(num1, num2, sum))"
      ],
      "execution_count": 9,
      "outputs": [
        {
          "output_type": "stream",
          "text": [
            "Enter first number: 10\n",
            "Enter second number: 8\n",
            "The sum of 10 and 8 is 18.0\n"
          ],
          "name": "stdout"
        }
      ]
    },
    {
      "cell_type": "code",
      "metadata": {
        "id": "8eWAGDzdxfox",
        "colab_type": "code",
        "colab": {
          "base_uri": "https://localhost:8080/",
          "height": 85
        },
        "outputId": "d59b4202-9670-45ea-b6bc-29ece4f1a71b"
      },
      "source": [
        " #area of  triangle\n",
        "a=float(input('enter first side'))\n",
        "b=float(input('enter second side'))\n",
        "c=float(input('enter third side'))\n",
        "s=(a+b+c)/2\n",
        "area=(s*(s-a)*(s-b)*(s-c))**0.5\n",
        "print('the area of the triangle is %0.2f'%area)"
      ],
      "execution_count": 12,
      "outputs": [
        {
          "output_type": "stream",
          "text": [
            "enter first side10\n",
            "enter second side6\n",
            "enter third side8\n",
            "the area of the triangle is 24.00\n"
          ],
          "name": "stdout"
        }
      ]
    },
    {
      "cell_type": "code",
      "metadata": {
        "id": "Z8ANxn5T01gs",
        "colab_type": "code",
        "colab": {
          "base_uri": "https://localhost:8080/",
          "height": 54
        },
        "outputId": "464f22dd-b206-4d77-8809-adf185dbb619"
      },
      "source": [
        " # Solve the quadratic equation ax**2 + bx + c = 0\n",
        " \n",
        "# import complex math module\n",
        "import cmath\n",
        " \n",
        "a = 8\n",
        "b = 4\n",
        "c = 2\n",
        " \n",
        "# calculate the discriminant\n",
        "d = (b**2) - (4*a*c)\n",
        " \n",
        "# find two solutions\n",
        "sol1 = (-b-cmath.sqrt(d))/(2*a)\n",
        "sol2 = (-b+cmath.sqrt(d))/(2*a)\n",
        " \n",
        "print('The solution are {0} and {1}'.format(sol1,sol2))"
      ],
      "execution_count": 24,
      "outputs": [
        {
          "output_type": "stream",
          "text": [
            "The solution are (-0.25-0.4330127018922193j) and (-0.25+0.4330127018922193j)\n"
          ],
          "name": "stdout"
        }
      ]
    }
  ]
}